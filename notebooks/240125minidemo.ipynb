{
 "cells": [
  {
   "cell_type": "code",
   "execution_count": 1,
   "metadata": {
    "ExecuteTime": {
     "end_time": "2024-02-22T12:52:02.299182241Z",
     "start_time": "2024-02-22T12:51:58.369119759Z"
    }
   },
   "outputs": [],
   "source": [
    "import os\n",
    "import sys\n",
    "module_path = os.path.abspath(os.path.join('..')) + '/src/'\n",
    "if module_path not in sys.path:\n",
    "    sys.path.insert(0, module_path)\n",
    "\n",
    "import torch\n",
    "from params import Params\n",
    "from pupil import ScalarPupil\n",
    "from propagator import FourierPropagator,SimpleVectorial\n",
    "\n",
    "%load_ext autoreload\n",
    "%autoreload 2"
   ]
  },
  {
   "cell_type": "code",
   "execution_count": 2,
   "metadata": {
    "ExecuteTime": {
     "end_time": "2024-02-22T12:52:02.366386650Z",
     "start_time": "2024-02-22T12:52:02.303361683Z"
    }
   },
   "outputs": [],
   "source": [
    "user_input = {\n",
    "    'wavelength': 600,\n",
    "    'NA': 1.1,\n",
    "    'refractive_index': None\n",
    "}"
   ]
  },
  {
   "cell_type": "code",
   "execution_count": 5,
   "metadata": {
    "ExecuteTime": {
     "end_time": "2024-02-22T12:52:09.819097866Z",
     "start_time": "2024-02-22T12:52:06.976953505Z"
    }
   },
   "outputs": [],
   "source": [
    "params = Params(user_input)\n",
    "pupil = ScalarPupil(params)\n",
    "propagator = FourierPropagator(None, params)"
   ]
  },
  {
   "cell_type": "code",
   "outputs": [
    {
     "ename": "AttributeError",
     "evalue": "'ScalarPupil' object has no attribute 'display_input'",
     "output_type": "error",
     "traceback": [
      "\u001B[0;31m---------------------------------------------------------------------------\u001B[0m",
      "\u001B[0;31mAttributeError\u001B[0m                            Traceback (most recent call last)",
      "Cell \u001B[0;32mIn[4], line 1\u001B[0m\n\u001B[0;32m----> 1\u001B[0m \u001B[43mpupil\u001B[49m\u001B[38;5;241;43m.\u001B[39;49m\u001B[43mdisplay_input\u001B[49m()\n",
      "\u001B[0;31mAttributeError\u001B[0m: 'ScalarPupil' object has no attribute 'display_input'"
     ]
    }
   ],
   "source": [
    "pupil.display_input()"
   ],
   "metadata": {
    "collapsed": false
   },
   "execution_count": 4
  },
  {
   "cell_type": "code",
   "outputs": [
    {
     "ename": "AttributeError",
     "evalue": "'FourierPropagator' object has no attribute 'display_psf'",
     "output_type": "error",
     "traceback": [
      "\u001B[0;31m---------------------------------------------------------------------------\u001B[0m",
      "\u001B[0;31mAttributeError\u001B[0m                            Traceback (most recent call last)",
      "Cell \u001B[0;32mIn[6], line 1\u001B[0m\n\u001B[0;32m----> 1\u001B[0m \u001B[43mpropagator\u001B[49m\u001B[38;5;241;43m.\u001B[39;49m\u001B[43mdisplay_psf\u001B[49m()\n",
      "\u001B[0;31mAttributeError\u001B[0m: 'FourierPropagator' object has no attribute 'display_psf'"
     ]
    }
   ],
   "source": [
    "propagator.display_psf()"
   ],
   "metadata": {
    "collapsed": false,
    "ExecuteTime": {
     "end_time": "2024-02-22T12:52:19.042460091Z",
     "start_time": "2024-02-22T12:52:18.852306287Z"
    }
   },
   "execution_count": 6
  },
  {
   "cell_type": "code",
   "outputs": [
    {
     "ename": "AttributeError",
     "evalue": "'SimpleVectorial' object has no attribute 'display_psf'",
     "output_type": "error",
     "traceback": [
      "\u001B[0;31m---------------------------------------------------------------------------\u001B[0m",
      "\u001B[0;31mAttributeError\u001B[0m                            Traceback (most recent call last)",
      "Cell \u001B[0;32mIn[7], line 2\u001B[0m\n\u001B[1;32m      1\u001B[0m propagator \u001B[38;5;241m=\u001B[39m SimpleVectorial(pupil, params)\n\u001B[0;32m----> 2\u001B[0m \u001B[43mpropagator\u001B[49m\u001B[38;5;241;43m.\u001B[39;49m\u001B[43mdisplay_psf\u001B[49m()\n",
      "\u001B[0;31mAttributeError\u001B[0m: 'SimpleVectorial' object has no attribute 'display_psf'"
     ]
    }
   ],
   "source": [
    "propagator = SimpleVectorial(pupil, params)\n",
    "propagator.display_psf()"
   ],
   "metadata": {
    "collapsed": false,
    "ExecuteTime": {
     "end_time": "2024-02-22T12:52:48.374768375Z",
     "start_time": "2024-02-22T12:52:48.246421232Z"
    }
   },
   "execution_count": 7
  },
  {
   "cell_type": "code",
   "outputs": [],
   "source": [],
   "metadata": {
    "collapsed": false
   }
  }
 ],
 "metadata": {
  "kernelspec": {
   "display_name": "Python 3 (ipykernel)",
   "language": "python",
   "name": "python3"
  },
  "language_info": {
   "codemirror_mode": {
    "name": "ipython",
    "version": 3
   },
   "file_extension": ".py",
   "mimetype": "text/x-python",
   "name": "python",
   "nbconvert_exporter": "python",
   "pygments_lexer": "ipython3",
   "version": "3.9.6"
  }
 },
 "nbformat": 4,
 "nbformat_minor": 4
}
