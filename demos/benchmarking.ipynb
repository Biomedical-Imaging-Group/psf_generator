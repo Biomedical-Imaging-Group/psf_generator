{
 "cells": [
  {
   "metadata": {},
   "cell_type": "markdown",
   "source": "# Demo 2: benckmarking",
   "id": "59f5bcf6a06b126"
  },
  {
   "metadata": {},
   "cell_type": "markdown",
   "source": [
    "In this demo, we show how to benchmark the accuracy and runtime of different propagators on CPU (and GPU if it is available) to gain insight in the computational aspect of them.\n",
    "We start by setting up the imports."
   ],
   "id": "8440f32d11eb2d0"
  },
  {
   "metadata": {},
   "cell_type": "code",
   "source": [
    "import math\n",
    "from time import time\n",
    "import warnings\n",
    "\n",
    "from matplotlib import pyplot as plt\n",
    "import numpy as np\n",
    "import torch\n",
    "from torch.special import bessel_j1\n",
    "\n",
    "\n",
    "from src.psf_generator import *\n",
    "from psf_generator.utils.misc import convert_tensor_to_array"
   ],
   "id": "9620df554a5a5adb",
   "outputs": [],
   "execution_count": null
  },
  {
   "metadata": {},
   "cell_type": "markdown",
   "source": "## Accuracy benchmark",
   "id": "5641c8715882a06"
  },
  {
   "metadata": {},
   "cell_type": "markdown",
   "source": [
    "We compare the accuracy of the two scalar propagators `ScalarCartesianPropagator` and `ScalarSphericalPropagator` against a reference - the analytical expression of an Airy disk $F_{\\text{AD}}$\n",
    "\n",
    "$$F_{\\mathrm{AD}}(\\rho) = \\frac{2J_1(\\rho)}{\\rho}$$\n",
    "\n",
    "where $J_1$ is the Bessel function of the first order of the first kind.\n",
    "\n",
    "We measure the $L_2$ error $\\delta$ between this expression and the output $E$ of a propagator as a metric for accuracy\n",
    "\n",
    "$$\\delta = \\|E - F_{\\text{AD}}\\|_2.$$\n",
    "\n",
    "We run it over a range of pixels for the pupil plane and plot the result.\n",
    "\n",
    "To start, we first define this ground truth in a function.\n",
    "Note two things:\n",
    "- to avoid the numerical issue when $\\rho$ is small, we approximate the expression with another function $f(\\rho) = 1 - \\frac{\\rho^2}{8}$ when $\\rho<10^{-6}$\n",
    "- to ensure the scaling is correct, we multiple $\\rho$ with a factor $\\frac{3\\pi\\text{NA}}{\\lambda n}$, where NA is the numerical aperture, $\\lambda$ is the wavelength, $n$ is the refractive index of the immersion oil"
   ],
   "id": "c7ec29576f68fa60"
  },
  {
   "metadata": {},
   "cell_type": "code",
   "source": [
    "def airy_disk(fov, n_pix_psf, wavelength, na):\n",
    "    airy_disk_function = lambda x: torch.where(x > 1e-6, 2 * bessel_j1(x) / x, 1 - x ** 2 / 8)\n",
    "    x = torch.linspace(- fov / 2, fov / 2, n_pix_psf)\n",
    "    xx, yy = torch.meshgrid(x, x, indexing='ij')\n",
    "    rr = torch.sqrt(xx ** 2 + yy ** 2)\n",
    "    refractive_index = 1.0\n",
    "    k = 4/3 * refractive_index * math.pi / wavelength\n",
    "    airy_disk_analytic = convert_tensor_to_array(airy_disk_function(k * rr * na / refractive_index))\n",
    "    return airy_disk_analytic"
   ],
   "id": "9c0a31c2ea66082a",
   "outputs": [],
   "execution_count": null
  },
  {
   "metadata": {},
   "cell_type": "markdown",
   "source": [
    "Next, we specify some parameters and define the range of pixels for the pupil to benchmark as $[2^3+1, 2^6+1, \\ldots, 2^{10}+1]$.\n",
    "Feel free to modify them based on the specifications of your system."
   ],
   "id": "6d2109b13278b310"
  },
  {
   "metadata": {},
   "cell_type": "code",
   "source": [
    "kwargs = {\n",
    "        'n_pix_psf': 201,\n",
    "        'wavelength': 632,\n",
    "        'na': 1.3,\n",
    "        'fov': 3000\n",
    "    }\n",
    "list_of_pixels = [int(math.pow(2, exponent) + 1) for exponent in range(3, 11)]"
   ],
   "id": "1c267dc724ed95a7",
   "outputs": [],
   "execution_count": null
  },
  {
   "metadata": {},
   "cell_type": "markdown",
   "source": "Now we are ready to launch the benchmark, run the next cell.",
   "id": "665fcde77842018f"
  },
  {
   "metadata": {},
   "cell_type": "code",
   "source": [
    "propagator_types = [\n",
    "        ScalarCartesianPropagator,\n",
    "        ScalarSphericalPropagator\n",
    "    ]\n",
    "\n",
    "airy_disk_analytic = airy_disk(**kwargs)\n",
    "\n",
    "results = []\n",
    "for propagator_type in propagator_types:\n",
    "    propagator_name = propagator_type.get_name()\n",
    "    accuracy_list = []\n",
    "    for n_pix in list_of_pixels:\n",
    "        if 'cartesian' in propagator_type.get_name():\n",
    "            propagator = propagator_type(n_pix_pupil=n_pix, sz_correction=False, **kwargs)\n",
    "        elif 'spherical' in propagator_type.get_name():\n",
    "            propagator = propagator_type(n_pix_pupil=n_pix, cos_factor=True, **kwargs)\n",
    "        else:\n",
    "            raise ValueError('incorrect propagator name')\n",
    "\n",
    "        psf = convert_tensor_to_array(propagator.compute_focus_field())\n",
    "        psf /= np.max(np.abs(psf))\n",
    "        accuracy = np.sqrt(np.sum(np.abs(psf - airy_disk_analytic) ** 2))\n",
    "        accuracy_list.append((n_pix, accuracy))\n",
    "    results.append(accuracy_list)"
   ],
   "id": "e96f47d813e55902",
   "outputs": [],
   "execution_count": null
  },
  {
   "metadata": {},
   "cell_type": "markdown",
   "source": "Next, we plot the results.",
   "id": "97136d0aeb15f2a5"
  },
  {
   "metadata": {},
   "cell_type": "code",
   "source": [
    "figure, ax = plt.subplots(1, 1, figsize=(6, 6))\n",
    "colors = ['red', 'blue']\n",
    "labels = ['Cartesian', 'Spherical']\n",
    "xs = np.array(list_of_pixels)\n",
    "for result, label, color in zip(results, labels, colors):\n",
    "    x, y = zip(*result)\n",
    "    ax.loglog(x, y, label=label, ls='solid', marker='.', markersize=6, lw=1, color=color)\n",
    "ax.set_xscale(\"log\", base=2)\n",
    "ax.set_yscale(\"log\", base=10)\n",
    "ax.set_xlabel('Pupil size', fontsize=12)\n",
    "ax.set_ylabel('Error', fontsize=12)\n",
    "ax.legend(fontsize=12)\n",
    "plt.grid(color='gray', ls='dotted', lw=1)\n",
    "plt.show()"
   ],
   "id": "4a86befc8fb6974b",
   "outputs": [],
   "execution_count": null
  },
  {
   "metadata": {},
   "cell_type": "markdown",
   "source": "## Speed benchmark",
   "id": "f21b55ea4461615f"
  },
  {
   "metadata": {},
   "cell_type": "markdown",
   "source": [
    "To check the scalability of a propagator and compare with other propagators, we can benchmark the runtime to generate a single 2D image of the PSF at the focal plane.\n",
    "We benchmark against the number of pixels on the pupil plane.\n",
    "You can modify `device` to select CPU or GPU."
   ],
   "id": "e26cea160e83bcea"
  },
  {
   "metadata": {},
   "cell_type": "code",
   "source": [
    "# define propagator types\n",
    "propagator_types = [\n",
    "    ScalarCartesianPropagator,\n",
    "    ScalarSphericalPropagator,\n",
    "    VectorialCartesianPropagator,\n",
    "    VectorialSphericalPropagator,\n",
    "]\n",
    "# test parameters\n",
    "list_of_pixels = [int(math.pow(2, exponent) + 1) for exponent in range(3, 11)]\n",
    "# average the time over many repetitions\n",
    "number_of_repetitions = 10\n",
    "# define devices\n",
    "device = \"cpu\" # \"cuda:0\""
   ],
   "id": "17f014a2f54bf143",
   "outputs": [],
   "execution_count": null
  },
  {
   "metadata": {},
   "cell_type": "code",
   "source": [
    "if 'cuda' in device:\n",
    "    if torch.cuda.is_available():\n",
    "        torch.cuda.synchronize()\n",
    "    else:\n",
    "        device = \"cpu\"\n",
    "        warnings.warn('GPU not available, benchmarking on CPU instead.')\n",
    "\n",
    "results = []\n",
    "for propagator_type in propagator_types:\n",
    "    average_runtime_list = []\n",
    "    for n_pix in list_of_pixels:\n",
    "        print(device, propagator_type.__name__, n_pix)\n",
    "        runtime_list = []\n",
    "        for _ in range(number_of_repetitions):\n",
    "            start_time = time()\n",
    "            propagator = propagator_type(n_pix_pupil=n_pix, device=device)\n",
    "            propagator.compute_focus_field()\n",
    "            runtime = time() - start_time\n",
    "            runtime_list.append(runtime)\n",
    "        average_runtime_list.append((n_pix, sum(runtime_list) / number_of_repetitions))\n",
    "    results.append(average_runtime_list)"
   ],
   "id": "14d5f3649cffbbf5",
   "outputs": [],
   "execution_count": null
  },
  {
   "metadata": {},
   "cell_type": "markdown",
   "source": "Next, plot the results.",
   "id": "e7c36e343a82331"
  },
  {
   "metadata": {},
   "cell_type": "code",
   "source": [
    "figure, ax = plt.subplots(1, 1, figsize=(6, 6))\n",
    "colors = ['red', 'blue', 'red', 'blue']\n",
    "labels = [propagator_type.__name__ for propagator_type in propagator_types]\n",
    "for result, label, color in zip(results, labels, colors):\n",
    "    x, y = zip(*result)\n",
    "    if 'Scalar' in label:\n",
    "        ls = 'dotted'\n",
    "    else:\n",
    "        ls = 'solid'\n",
    "    ax.loglog(x[1:], y[1:], label=label.replace(\"_\", \" \"), ls=ls, marker='.', markersize=6, lw=1, color=color)\n",
    "    ax.set_xscale(\"log\", base=2)\n",
    "    ax.set_yscale(\"log\", base=10)\n",
    "    ax.set_ylabel('Time (s)', fontsize=12)\n",
    "    ax.legend(fontsize=12)\n",
    "ax.set_title(f'Runtime on {device}', fontsize=12)\n",
    "ax.set_xlabel('Pupil size', fontsize=12)\n",
    "\n",
    "plt.grid(color='gray', ls='dotted', lw=1)\n",
    "plt.show()"
   ],
   "id": "b731edc7e254fb9f",
   "outputs": [],
   "execution_count": null
  }
 ],
 "metadata": {
  "kernelspec": {
   "display_name": "Python 3",
   "language": "python",
   "name": "python3"
  },
  "language_info": {
   "codemirror_mode": {
    "name": "ipython",
    "version": 2
   },
   "file_extension": ".py",
   "mimetype": "text/x-python",
   "name": "python",
   "nbconvert_exporter": "python",
   "pygments_lexer": "ipython2",
   "version": "2.7.6"
  }
 },
 "nbformat": 4,
 "nbformat_minor": 5
}
