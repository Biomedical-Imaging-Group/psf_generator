{
 "cells": [
  {
   "metadata": {},
   "cell_type": "markdown",
   "source": "# Demo 1: compute a PSF with given parameters",
   "id": "a876d4dcd271b7df"
  },
  {
   "metadata": {},
   "cell_type": "markdown",
   "source": "To compute a PSF with a chosen propagator (model) and given parameters, we start by importing the propagators.",
   "id": "75187b37d95f512d"
  },
  {
   "metadata": {
    "collapsed": true
   },
   "cell_type": "code",
   "source": [
    "import math\n",
    "from psf_generator.propagators import *\n",
    "from psf_generator.utils.plots import plot_pupil, plot_psf\n",
    "%load_ext autoreload\n",
    "%autoreload 2"
   ],
   "id": "initial_id",
   "outputs": [],
   "execution_count": null
  },
  {
   "metadata": {},
   "cell_type": "markdown",
   "source": [
    "## Example 1: compute a plain PSF under high NA\n",
    "We showcase it with `VectorialSphericalPropagator`.\n",
    "\n",
    "For convenience, we can group all the parameters into a dictionary `kwargs`.\n",
    "Note that all the input arguments of any propagator have a default value, refer to ADD LINK for them.\n",
    "You can freely assign a new value to any one of them.\n",
    "\n",
    "For example, here we choose a high NA of 1.3, length of the field of view to be 2000 nm, defocus range below and above the focal plane along the $z$-axis to be each 4000 nm, in 300 slices in total, and circular polarization, i.e., the polarization vector $(e_0^x, e_0^y) = (\\frac{\\sqrt(2)}{2}, \\frac{\\sqrt(2)}{2}\\mathrm{j})$."
   ],
   "id": "44800b9e6b9cbfe1"
  },
  {
   "metadata": {},
   "cell_type": "code",
   "source": [
    "kwargs = {\n",
    "    'n_pix_pupil': 127,\n",
    "    'n_pix_psf': 256,\n",
    "    'na': 1.3,\n",
    "    'wavelength': 600,\n",
    "    'fov': 2000,\n",
    "    'defocus_min': -4000,\n",
    "    'defocus_max': 4000,\n",
    "    'n_defocus': 300,\n",
    "    'e0x': math.sqrt(2) / 2,\n",
    "    'e0y': math.sqrt(2) / 2 * 1j,\n",
    "}\n",
    "my_propagator = VectorialSphericalPropagator(**kwargs)"
   ],
   "id": "8453643eff8a60b6",
   "outputs": [],
   "execution_count": null
  },
  {
   "metadata": {},
   "cell_type": "markdown",
   "source": "We obtain the 3D PSF via the method `compute_focus_field()`.",
   "id": "291239b572ba6476"
  },
  {
   "metadata": {},
   "cell_type": "code",
   "source": "psf = my_propagator.compute_focus_field()",
   "id": "cd7a535e37c38554",
   "outputs": [],
   "execution_count": null
  },
  {
   "metadata": {},
   "cell_type": "markdown",
   "source": [
    "To visualize some key properties of the PSF which is complex-valued, such as the modulus, phase and intensity, use the function `plot_psf`.\n",
    "Since the PSF is 3D, for the modulus and the phase, only three orthogonal slices (focal plane $xy$, $xz$, and $yz$) through the center of the image for each component of the electric field ($\\mathbf{e}_x$, $\\mathbf{e}_y$, $\\mathbf{e}_z$) are shown.\n",
    "The intensity $I$ of the PSF is defined as\n",
    "$$I = \\sum_{i=1}^{N} |\\mathbf{e}_i(x, y, z)|^2, \\quad N = 1 \\, \\mathrm{or} \\, 3. $$\n",
    "$N=1$ for scalar and $3$ for vectorial propagators."
   ],
   "id": "a34b804518ffe199"
  },
  {
   "metadata": {},
   "cell_type": "code",
   "source": [
    "# visualize the modulus, phase and intensity of the PSF\n",
    "for quantity in ['modulus', 'phase', 'intensity']:\n",
    "    plot_psf(psf=psf, name_of_propagator=my_propagator.get_name(), quantity=quantity, show_titles=True, show_cbar_ticks=True)"
   ],
   "id": "d13419ae66ff85d7",
   "outputs": [],
   "execution_count": null
  },
  {
   "metadata": {},
   "cell_type": "markdown",
   "source": [
    "## Example 2: apply the Gibson-Lanni and apodization correction factors to a Cartesian propagator\n",
    "The Gibson-Lanni correction factor accounts for the refractive index mismatch between different layers.\n",
    "The apodization factor ensures energy conservation and is particularly important in high-NA systems.\n",
    "They both have been applied to the spherical case in existing works, we show that they are equally applicable to the Cartesian case."
   ],
   "id": "362d19940a3d07f"
  },
  {
   "metadata": {},
   "cell_type": "code",
   "source": [
    "kwargs_2 = {\n",
    "    'n_pix_pupil': 257,\n",
    "    'n_pix_psf': 256,\n",
    "    'na': 1.3,\n",
    "    'wavelength': 600,\n",
    "    'fov': 2000,\n",
    "    'defocus_min': -4000,\n",
    "    'defocus_max': 4000,\n",
    "    'n_defocus': 300,\n",
    "    'e0x': math.sqrt(2) / 2,\n",
    "    'e0y': math.sqrt(2) / 2 * 1j,\n",
    "    'apod_factor': True,\n",
    "    'gibson_lanni': True\n",
    "}\n",
    "my_propagator_2 = VectorialCartesianPropagator(**kwargs_2)\n",
    "psf_2 = my_propagator_2.compute_focus_field()"
   ],
   "id": "ab603232460d0ff1",
   "outputs": [],
   "execution_count": null
  },
  {
   "metadata": {},
   "cell_type": "markdown",
   "source": "We check the modulus of the resulting PSF.",
   "id": "8c9b9f76db97d8fd"
  },
  {
   "metadata": {},
   "cell_type": "code",
   "source": "plot_psf(psf=psf_2, name_of_propagator=my_propagator_2.get_name(), quantity='modulus')",
   "id": "2b373cfeeff7de12",
   "outputs": [],
   "execution_count": null
  },
  {
   "metadata": {},
   "cell_type": "markdown",
   "source": [
    "It is also possible to check the pupil to inspect the applied aberrations via the method `get_pupil()`.\n",
    " The function `plot_pupil` will show both the modulus and the phase of the pupil.\n"
   ],
   "id": "19d1b01d3dbea511"
  },
  {
   "metadata": {},
   "cell_type": "code",
   "source": [
    "# compute pupil\n",
    "pupil = my_propagator_2.get_pupil()\n",
    "plot_pupil(pupil=pupil, name_of_propagator=my_propagator_2.get_name(), show_cbar_ticks=True)"
   ],
   "id": "d64f0dc27a0f1b7b",
   "outputs": [],
   "execution_count": null
  },
  {
   "metadata": {},
   "cell_type": "markdown",
   "source": "**Note**: In the case of spherical propagators, the pupil is not a 2D image (but two 1D intervals) thus not available for display. Use the corresponding Cartesian propagator to compute and visualize the equivalent pupil instead.",
   "id": "a34a6ef61d9248fd"
  },
  {
   "metadata": {},
   "cell_type": "markdown",
   "source": [
    "## Example 3: arbitrary phase aberrations\n",
    "More general phase aberrations can be introduced for applications such as PSF engineering and wavefront shaping.\n",
    "We give two examples\n",
    "- the \"donut\" excitation beam (corresponding phase mask `'vortex'`) used in STED or MINFLUX microscopy,\n",
    "- astigmatism via the Zernike polynomials.\n",
    "\n",
    "Note that we have to use the Cartesian propagators here because arbitrary aberrations may not be axisymmetric, which is the assumption of the spherical propagators."
   ],
   "id": "7d2362bc5f34cb23"
  },
  {
   "metadata": {},
   "cell_type": "markdown",
   "source": [
    "### Donut\n",
    "We only need to specify the `special_phase_mask` to be `'vortex'`."
   ],
   "id": "767e246b2954c40e"
  },
  {
   "metadata": {},
   "cell_type": "code",
   "source": [
    "kwargs_3 = {\n",
    "    'n_pix_pupil': 257,\n",
    "    'n_pix_psf': 256,\n",
    "    'na': 1.3,\n",
    "    'wavelength': 600,\n",
    "    'fov': 2000,\n",
    "    'defocus_min': -4000,\n",
    "    'defocus_max': 4000,\n",
    "    'n_defocus': 300,\n",
    "    'e0x': math.sqrt(2) / 2,\n",
    "    'e0y': math.sqrt(2) / 2 * 1j,\n",
    "    'special_phase_mask': 'vortex'\n",
    "}\n",
    "my_propagator_3 = VectorialCartesianPropagator(**kwargs_3)\n",
    "psf_3 = my_propagator_3.compute_focus_field()\n",
    "pupil_3 = my_propagator_3.get_pupil()"
   ],
   "id": "390c89858153596b",
   "outputs": [],
   "execution_count": null
  },
  {
   "metadata": {},
   "cell_type": "code",
   "source": [
    "plot_psf(psf=psf_3, name_of_propagator=my_propagator_3.get_name(), quantity='modulus')\n",
    "plot_pupil(pupil_3, name_of_propagator=my_propagator_3.get_name())"
   ],
   "id": "a60f826e9a7556b",
   "outputs": [],
   "execution_count": null
  },
  {
   "metadata": {},
   "cell_type": "markdown",
   "source": [
    "### Astigmatism\n",
    "We enable the Zernike polynomial for astigmatism by specifying the coefficient for it to be nonzero."
   ],
   "id": "19bc73bf673f8c19"
  },
  {
   "metadata": {},
   "cell_type": "code",
   "source": [
    "kwargs_4 = {\n",
    "    'n_pix_pupil': 257,\n",
    "    'n_pix_psf': 256,\n",
    "    'na': 1.3,\n",
    "    'wavelength': 600,\n",
    "    'fov': 2000,\n",
    "    'defocus_min': -4000,\n",
    "    'defocus_max': 4000,\n",
    "    'n_defocus': 300,\n",
    "    'e0x': math.sqrt(2) / 2,\n",
    "    'e0y': math.sqrt(2) / 2 * 1j,\n",
    "    'zernike_coefficients': [0, 0, 0, 0, 0, 1]\n",
    "}\n",
    "my_propagator_4 = VectorialCartesianPropagator(**kwargs_4)\n",
    "psf_4 = my_propagator_4.compute_focus_field()\n",
    "pupil_4 = my_propagator_4.get_pupil()"
   ],
   "id": "b7240f128c464035",
   "outputs": [],
   "execution_count": null
  },
  {
   "metadata": {},
   "cell_type": "markdown",
   "source": "We can plot multiple $xy$ planes to see the effect of astigmatism along the optical ($z$) axis.",
   "id": "1b80940b06660eb9"
  },
  {
   "metadata": {},
   "cell_type": "code",
   "source": [
    "import numpy as np\n",
    "\n",
    "central_slice_n = kwargs_4['n_defocus'] // 2\n",
    "for slice_n in central_slice_n + np.array([- central_slice_n//6, 0, central_slice_n//6]):\n",
    "    plot_psf(psf=psf_4, name_of_propagator=my_propagator_4.get_name(), quantity='modulus', show_titles=True, z_slice_number=slice_n)\n",
    "plot_pupil(pupil_4, name_of_propagator=my_propagator_4.get_name())"
   ],
   "id": "62423cbc293ad720",
   "outputs": [],
   "execution_count": null
  }
 ],
 "metadata": {
  "kernelspec": {
   "display_name": "Python 3",
   "language": "python",
   "name": "python3"
  },
  "language_info": {
   "codemirror_mode": {
    "name": "ipython",
    "version": 2
   },
   "file_extension": ".py",
   "mimetype": "text/x-python",
   "name": "python",
   "nbconvert_exporter": "python",
   "pygments_lexer": "ipython2",
   "version": "2.7.6"
  }
 },
 "nbformat": 4,
 "nbformat_minor": 5
}
